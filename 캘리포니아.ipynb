{
  "cells": [
    {
      "cell_type": "code",
      "execution_count": 6,
      "metadata": {
        "id": "tx55Hyp2ccvB"
      },
      "outputs": [],
      "source": [
        "import numpy as np\n",
        "import pandas as pd\n",
        "import matplotlib.pyplot as plt\n",
        "import matplotlib as mpl\n",
        "from sklearn.datasets import fetch_california_housing\n",
        "from sklearn import linear_model"
      ]
    },
    {
      "cell_type": "code",
      "execution_count": 7,
      "metadata": {},
      "outputs": [
        {
          "name": "stdout",
          "output_type": "stream",
          "text": [
            "Requirement already satisfied: matplotlib in c:\\users\\baegs\\appdata\\local\\programs\\python\\python311\\lib\\site-packages (3.9.0)\n",
            "Requirement already satisfied: contourpy>=1.0.1 in c:\\users\\baegs\\appdata\\local\\programs\\python\\python311\\lib\\site-packages (from matplotlib) (1.2.1)\n",
            "Requirement already satisfied: cycler>=0.10 in c:\\users\\baegs\\appdata\\local\\programs\\python\\python311\\lib\\site-packages (from matplotlib) (0.12.1)\n",
            "Requirement already satisfied: fonttools>=4.22.0 in c:\\users\\baegs\\appdata\\local\\programs\\python\\python311\\lib\\site-packages (from matplotlib) (4.51.0)\n",
            "Requirement already satisfied: kiwisolver>=1.3.1 in c:\\users\\baegs\\appdata\\local\\programs\\python\\python311\\lib\\site-packages (from matplotlib) (1.4.5)\n",
            "Requirement already satisfied: numpy>=1.23 in c:\\users\\baegs\\appdata\\local\\programs\\python\\python311\\lib\\site-packages (from matplotlib) (1.26.3)\n",
            "Requirement already satisfied: packaging>=20.0 in c:\\users\\baegs\\appdata\\local\\programs\\python\\python311\\lib\\site-packages (from matplotlib) (23.2)\n",
            "Requirement already satisfied: pillow>=8 in c:\\users\\baegs\\appdata\\local\\programs\\python\\python311\\lib\\site-packages (from matplotlib) (10.2.0)\n",
            "Requirement already satisfied: pyparsing>=2.3.1 in c:\\users\\baegs\\appdata\\local\\programs\\python\\python311\\lib\\site-packages (from matplotlib) (3.1.2)\n",
            "Requirement already satisfied: python-dateutil>=2.7 in c:\\users\\baegs\\appdata\\local\\programs\\python\\python311\\lib\\site-packages (from matplotlib) (2.8.2)\n",
            "Requirement already satisfied: six>=1.5 in c:\\users\\baegs\\appdata\\local\\programs\\python\\python311\\lib\\site-packages (from python-dateutil>=2.7->matplotlib) (1.16.0)\n",
            "Note: you may need to restart the kernel to use updated packages.\n"
          ]
        },
        {
          "name": "stderr",
          "output_type": "stream",
          "text": [
            "\n",
            "[notice] A new release of pip is available: 23.3.2 -> 24.0\n",
            "[notice] To update, run: python.exe -m pip install --upgrade pip\n"
          ]
        }
      ],
      "source": [
        "pip install matplotlib\n"
      ]
    },
    {
      "cell_type": "code",
      "execution_count": 27,
      "metadata": {
        "id": "JfVMWsnGdWHv"
      },
      "outputs": [],
      "source": [
        "california = fetch_california_housing()\n",
        "dataset = pd.DataFrame(california.data, columns=california.feature_names)\n",
        "dataset['MedHouseVal'] = california.target"
      ]
    },
    {
      "cell_type": "code",
      "execution_count": 28,
      "metadata": {
        "id": "6wZOzsPJd5Ru"
      },
      "outputs": [],
      "source": [
        "observations = len(dataset)\n",
        "variables = dataset.columns[:-1]\n",
        "X = dataset.iloc[:, :-1]\n",
        "y = dataset['MedHouseVal'].values\n"
      ]
    },
    {
      "cell_type": "code",
      "execution_count": 29,
      "metadata": {
        "id": "vqHSX3dXeFY2"
      },
      "outputs": [],
      "source": [
        "import statsmodels.api as sm\n",
        "import statsmodels.formula.api as smf"
      ]
    },
    {
      "cell_type": "code",
      "execution_count": 30,
      "metadata": {
        "id": "MhspErz1eGGO"
      },
      "outputs": [],
      "source": [
        "Xc = sm.add_constant(X)\n",
        "linear_regression = sm.OLS(y,Xc)\n",
        "fitted_model = linear_regression.fit()"
      ]
    },
    {
      "cell_type": "code",
      "execution_count": 31,
      "metadata": {
        "colab": {
          "base_uri": "https://localhost:8080/",
          "height": 625
        },
        "id": "WYXkom7KeImf",
        "outputId": "c5196671-b311-444b-fa12-ea55eb184b88"
      },
      "outputs": [
        {
          "data": {
            "text/html": [
              "<table class=\"simpletable\">\n",
              "<caption>OLS Regression Results</caption>\n",
              "<tr>\n",
              "  <th>Dep. Variable:</th>            <td>y</td>        <th>  R-squared:         </th> <td>   0.606</td> \n",
              "</tr>\n",
              "<tr>\n",
              "  <th>Model:</th>                   <td>OLS</td>       <th>  Adj. R-squared:    </th> <td>   0.606</td> \n",
              "</tr>\n",
              "<tr>\n",
              "  <th>Method:</th>             <td>Least Squares</td>  <th>  F-statistic:       </th> <td>   3970.</td> \n",
              "</tr>\n",
              "<tr>\n",
              "  <th>Date:</th>             <td>Thu, 23 May 2024</td> <th>  Prob (F-statistic):</th>  <td>  0.00</td>  \n",
              "</tr>\n",
              "<tr>\n",
              "  <th>Time:</th>                 <td>12:32:37</td>     <th>  Log-Likelihood:    </th> <td> -22624.</td> \n",
              "</tr>\n",
              "<tr>\n",
              "  <th>No. Observations:</th>      <td> 20640</td>      <th>  AIC:               </th> <td>4.527e+04</td>\n",
              "</tr>\n",
              "<tr>\n",
              "  <th>Df Residuals:</th>          <td> 20631</td>      <th>  BIC:               </th> <td>4.534e+04</td>\n",
              "</tr>\n",
              "<tr>\n",
              "  <th>Df Model:</th>              <td>     8</td>      <th>                     </th>     <td> </td>    \n",
              "</tr>\n",
              "<tr>\n",
              "  <th>Covariance Type:</th>      <td>nonrobust</td>    <th>                     </th>     <td> </td>    \n",
              "</tr>\n",
              "</table>\n",
              "<table class=\"simpletable\">\n",
              "<tr>\n",
              "       <td></td>         <th>coef</th>     <th>std err</th>      <th>t</th>      <th>P>|t|</th>  <th>[0.025</th>    <th>0.975]</th>  \n",
              "</tr>\n",
              "<tr>\n",
              "  <th>const</th>      <td>  -36.9419</td> <td>    0.659</td> <td>  -56.067</td> <td> 0.000</td> <td>  -38.233</td> <td>  -35.650</td>\n",
              "</tr>\n",
              "<tr>\n",
              "  <th>MedInc</th>     <td>    0.4367</td> <td>    0.004</td> <td>  104.054</td> <td> 0.000</td> <td>    0.428</td> <td>    0.445</td>\n",
              "</tr>\n",
              "<tr>\n",
              "  <th>HouseAge</th>   <td>    0.0094</td> <td>    0.000</td> <td>   21.143</td> <td> 0.000</td> <td>    0.009</td> <td>    0.010</td>\n",
              "</tr>\n",
              "<tr>\n",
              "  <th>AveRooms</th>   <td>   -0.1073</td> <td>    0.006</td> <td>  -18.235</td> <td> 0.000</td> <td>   -0.119</td> <td>   -0.096</td>\n",
              "</tr>\n",
              "<tr>\n",
              "  <th>AveBedrms</th>  <td>    0.6451</td> <td>    0.028</td> <td>   22.928</td> <td> 0.000</td> <td>    0.590</td> <td>    0.700</td>\n",
              "</tr>\n",
              "<tr>\n",
              "  <th>Population</th> <td>-3.976e-06</td> <td> 4.75e-06</td> <td>   -0.837</td> <td> 0.402</td> <td>-1.33e-05</td> <td> 5.33e-06</td>\n",
              "</tr>\n",
              "<tr>\n",
              "  <th>AveOccup</th>   <td>   -0.0038</td> <td>    0.000</td> <td>   -7.769</td> <td> 0.000</td> <td>   -0.005</td> <td>   -0.003</td>\n",
              "</tr>\n",
              "<tr>\n",
              "  <th>Latitude</th>   <td>   -0.4213</td> <td>    0.007</td> <td>  -58.541</td> <td> 0.000</td> <td>   -0.435</td> <td>   -0.407</td>\n",
              "</tr>\n",
              "<tr>\n",
              "  <th>Longitude</th>  <td>   -0.4345</td> <td>    0.008</td> <td>  -57.682</td> <td> 0.000</td> <td>   -0.449</td> <td>   -0.420</td>\n",
              "</tr>\n",
              "</table>\n",
              "<table class=\"simpletable\">\n",
              "<tr>\n",
              "  <th>Omnibus:</th>       <td>4393.650</td> <th>  Durbin-Watson:     </th> <td>   0.885</td> \n",
              "</tr>\n",
              "<tr>\n",
              "  <th>Prob(Omnibus):</th>  <td> 0.000</td>  <th>  Jarque-Bera (JB):  </th> <td>14087.596</td>\n",
              "</tr>\n",
              "<tr>\n",
              "  <th>Skew:</th>           <td> 1.082</td>  <th>  Prob(JB):          </th> <td>    0.00</td> \n",
              "</tr>\n",
              "<tr>\n",
              "  <th>Kurtosis:</th>       <td> 6.420</td>  <th>  Cond. No.          </th> <td>2.38e+05</td> \n",
              "</tr>\n",
              "</table><br/><br/>Notes:<br/>[1] Standard Errors assume that the covariance matrix of the errors is correctly specified.<br/>[2] The condition number is large, 2.38e+05. This might indicate that there are<br/>strong multicollinearity or other numerical problems."
            ],
            "text/latex": [
              "\\begin{center}\n",
              "\\begin{tabular}{lclc}\n",
              "\\toprule\n",
              "\\textbf{Dep. Variable:}    &        y         & \\textbf{  R-squared:         } &     0.606   \\\\\n",
              "\\textbf{Model:}            &       OLS        & \\textbf{  Adj. R-squared:    } &     0.606   \\\\\n",
              "\\textbf{Method:}           &  Least Squares   & \\textbf{  F-statistic:       } &     3970.   \\\\\n",
              "\\textbf{Date:}             & Thu, 23 May 2024 & \\textbf{  Prob (F-statistic):} &     0.00    \\\\\n",
              "\\textbf{Time:}             &     12:32:37     & \\textbf{  Log-Likelihood:    } &   -22624.   \\\\\n",
              "\\textbf{No. Observations:} &       20640      & \\textbf{  AIC:               } & 4.527e+04   \\\\\n",
              "\\textbf{Df Residuals:}     &       20631      & \\textbf{  BIC:               } & 4.534e+04   \\\\\n",
              "\\textbf{Df Model:}         &           8      & \\textbf{                     } &             \\\\\n",
              "\\textbf{Covariance Type:}  &    nonrobust     & \\textbf{                     } &             \\\\\n",
              "\\bottomrule\n",
              "\\end{tabular}\n",
              "\\begin{tabular}{lcccccc}\n",
              "                    & \\textbf{coef} & \\textbf{std err} & \\textbf{t} & \\textbf{P$> |$t$|$} & \\textbf{[0.025} & \\textbf{0.975]}  \\\\\n",
              "\\midrule\n",
              "\\textbf{const}      &     -36.9419  &        0.659     &   -56.067  &         0.000        &      -38.233    &      -35.650     \\\\\n",
              "\\textbf{MedInc}     &       0.4367  &        0.004     &   104.054  &         0.000        &        0.428    &        0.445     \\\\\n",
              "\\textbf{HouseAge}   &       0.0094  &        0.000     &    21.143  &         0.000        &        0.009    &        0.010     \\\\\n",
              "\\textbf{AveRooms}   &      -0.1073  &        0.006     &   -18.235  &         0.000        &       -0.119    &       -0.096     \\\\\n",
              "\\textbf{AveBedrms}  &       0.6451  &        0.028     &    22.928  &         0.000        &        0.590    &        0.700     \\\\\n",
              "\\textbf{Population} &   -3.976e-06  &     4.75e-06     &    -0.837  &         0.402        &    -1.33e-05    &     5.33e-06     \\\\\n",
              "\\textbf{AveOccup}   &      -0.0038  &        0.000     &    -7.769  &         0.000        &       -0.005    &       -0.003     \\\\\n",
              "\\textbf{Latitude}   &      -0.4213  &        0.007     &   -58.541  &         0.000        &       -0.435    &       -0.407     \\\\\n",
              "\\textbf{Longitude}  &      -0.4345  &        0.008     &   -57.682  &         0.000        &       -0.449    &       -0.420     \\\\\n",
              "\\bottomrule\n",
              "\\end{tabular}\n",
              "\\begin{tabular}{lclc}\n",
              "\\textbf{Omnibus:}       & 4393.650 & \\textbf{  Durbin-Watson:     } &     0.885  \\\\\n",
              "\\textbf{Prob(Omnibus):} &   0.000  & \\textbf{  Jarque-Bera (JB):  } & 14087.596  \\\\\n",
              "\\textbf{Skew:}          &   1.082  & \\textbf{  Prob(JB):          } &      0.00  \\\\\n",
              "\\textbf{Kurtosis:}      &   6.420  & \\textbf{  Cond. No.          } &  2.38e+05  \\\\\n",
              "\\bottomrule\n",
              "\\end{tabular}\n",
              "%\\caption{OLS Regression Results}\n",
              "\\end{center}\n",
              "\n",
              "Notes: \\newline\n",
              " [1] Standard Errors assume that the covariance matrix of the errors is correctly specified. \\newline\n",
              " [2] The condition number is large, 2.38e+05. This might indicate that there are \\newline\n",
              " strong multicollinearity or other numerical problems."
            ],
            "text/plain": [
              "<class 'statsmodels.iolib.summary.Summary'>\n",
              "\"\"\"\n",
              "                            OLS Regression Results                            \n",
              "==============================================================================\n",
              "Dep. Variable:                      y   R-squared:                       0.606\n",
              "Model:                            OLS   Adj. R-squared:                  0.606\n",
              "Method:                 Least Squares   F-statistic:                     3970.\n",
              "Date:                Thu, 23 May 2024   Prob (F-statistic):               0.00\n",
              "Time:                        12:32:37   Log-Likelihood:                -22624.\n",
              "No. Observations:               20640   AIC:                         4.527e+04\n",
              "Df Residuals:                   20631   BIC:                         4.534e+04\n",
              "Df Model:                           8                                         \n",
              "Covariance Type:            nonrobust                                         \n",
              "==============================================================================\n",
              "                 coef    std err          t      P>|t|      [0.025      0.975]\n",
              "------------------------------------------------------------------------------\n",
              "const        -36.9419      0.659    -56.067      0.000     -38.233     -35.650\n",
              "MedInc         0.4367      0.004    104.054      0.000       0.428       0.445\n",
              "HouseAge       0.0094      0.000     21.143      0.000       0.009       0.010\n",
              "AveRooms      -0.1073      0.006    -18.235      0.000      -0.119      -0.096\n",
              "AveBedrms      0.6451      0.028     22.928      0.000       0.590       0.700\n",
              "Population -3.976e-06   4.75e-06     -0.837      0.402   -1.33e-05    5.33e-06\n",
              "AveOccup      -0.0038      0.000     -7.769      0.000      -0.005      -0.003\n",
              "Latitude      -0.4213      0.007    -58.541      0.000      -0.435      -0.407\n",
              "Longitude     -0.4345      0.008    -57.682      0.000      -0.449      -0.420\n",
              "==============================================================================\n",
              "Omnibus:                     4393.650   Durbin-Watson:                   0.885\n",
              "Prob(Omnibus):                  0.000   Jarque-Bera (JB):            14087.596\n",
              "Skew:                           1.082   Prob(JB):                         0.00\n",
              "Kurtosis:                       6.420   Cond. No.                     2.38e+05\n",
              "==============================================================================\n",
              "\n",
              "Notes:\n",
              "[1] Standard Errors assume that the covariance matrix of the errors is correctly specified.\n",
              "[2] The condition number is large, 2.38e+05. This might indicate that there are\n",
              "strong multicollinearity or other numerical problems.\n",
              "\"\"\""
            ]
          },
          "execution_count": 31,
          "metadata": {},
          "output_type": "execute_result"
        }
      ],
      "source": [
        "fitted_model.summary()"
      ]
    },
    {
      "cell_type": "code",
      "execution_count": 32,
      "metadata": {
        "colab": {
          "base_uri": "https://localhost:8080/"
        },
        "id": "elmcD9n9eKA_",
        "outputId": "1bb22431-a756-4012-ed48-e1544e81d539"
      },
      "outputs": [
        {
          "name": "stdout",
          "output_type": "stream",
          "text": [
            "              MedInc  HouseAge  AveRooms  AveBedrms  Population  AveOccup  \\\n",
            "MedInc      1.000000 -0.119034  0.326895  -0.062040    0.004834  0.018766   \n",
            "HouseAge   -0.119034  1.000000 -0.153277  -0.077747   -0.296244  0.013191   \n",
            "AveRooms    0.326895 -0.153277  1.000000   0.847621   -0.072213 -0.004852   \n",
            "AveBedrms  -0.062040 -0.077747  0.847621   1.000000   -0.066197 -0.006181   \n",
            "Population  0.004834 -0.296244 -0.072213  -0.066197    1.000000  0.069863   \n",
            "AveOccup    0.018766  0.013191 -0.004852  -0.006181    0.069863  1.000000   \n",
            "Latitude   -0.079809  0.011173  0.106389   0.069721   -0.108785  0.002366   \n",
            "Longitude  -0.015176 -0.108197 -0.027540   0.013344    0.099773  0.002476   \n",
            "\n",
            "            Latitude  Longitude  \n",
            "MedInc     -0.079809  -0.015176  \n",
            "HouseAge    0.011173  -0.108197  \n",
            "AveRooms    0.106389  -0.027540  \n",
            "AveBedrms   0.069721   0.013344  \n",
            "Population -0.108785   0.099773  \n",
            "AveOccup    0.002366   0.002476  \n",
            "Latitude    1.000000  -0.924664  \n",
            "Longitude  -0.924664   1.000000  \n"
          ]
        }
      ],
      "source": [
        "X = dataset.iloc[:, :-1]\n",
        "correlation_matrix = X.corr()\n",
        "print (correlation_matrix)"
      ]
    },
    {
      "cell_type": "code",
      "execution_count": 14,
      "metadata": {
        "colab": {
          "base_uri": "https://localhost:8080/",
          "height": 500
        },
        "id": "y00pY1dkeNH4",
        "outputId": "ad5de4e9-1790-4cb3-d755-a94c76ec4ce5"
      },
      "outputs": [
        {
          "data": {
            "image/png": "[encoded data removed]",
            "text/plain": [
              "<Figure size 640x480 with 2 Axes>"
            ]
          },
          "metadata": {},
          "output_type": "display_data"
        }
      ],
      "source": [
        "def visualize_correlation_matrix(data, hurdle = 0.0):\n",
        "    R = np.corrcoef(data, rowvar=0)\n",
        "    R[np.where(np.abs(R)<hurdle)] = 0.0\n",
        "    heatmap = plt.pcolor(R, cmap=mpl.cm.coolwarm, alpha=0.8)\n",
        "    heatmap.axes.set_frame_on(False)\n",
        "    heatmap.axes.set_yticks(np.arange(R.shape[0]) + 0.5, minor=False)\n",
        "    heatmap.axes.set_xticks(np.arange(R.shape[1]) + 0.5, minor=False)\n",
        "    heatmap.axes.set_xticklabels(variables, minor=False)\n",
        "    plt.xticks(rotation=90)\n",
        "    heatmap.axes.set_yticklabels(variables, minor=False)\n",
        "    plt.tick_params(axis='both', which='both', bottom='off', top='off', left = 'off', right = 'off')\n",
        "    plt.colorbar()\n",
        "    plt.show()\n",
        "\n",
        "visualize_correlation_matrix(X, hurdle=0.5)"
      ]
    },
    {
      "cell_type": "code",
      "execution_count": 15,
      "metadata": {
        "id": "UI_r60zwePFG"
      },
      "outputs": [],
      "source": [
        "corr = np.corrcoef(X, rowvar=0)\n",
        "eigenvalues, eigenvectors = np.linalg.eig(corr)"
      ]
    },
    {
      "cell_type": "code",
      "execution_count": 16,
      "metadata": {
        "colab": {
          "base_uri": "https://localhost:8080/"
        },
        "id": "szH7keq6eQ6e",
        "outputId": "b37198f5-349b-4caa-8377-06c09b8f55a5"
      },
      "outputs": [
        {
          "name": "stdout",
          "output_type": "stream",
          "text": [
            "[2.02694942 1.88129959 0.04558513 0.08160178 0.65938003 1.27109076\n",
            " 1.03103768 1.0030556 ]\n"
          ]
        }
      ],
      "source": [
        "print (eigenvalues)"
      ]
    },
    {
      "cell_type": "code",
      "execution_count": 17,
      "metadata": {
        "colab": {
          "base_uri": "https://localhost:8080/",
          "height": 871
        },
        "id": "fOHdGZ73eSJy",
        "outputId": "4a0bbc4c-4a77-4ae9-a9aa-2fe593bb17d8"
      },
      "outputs": [
        {
          "name": "stdout",
          "output_type": "stream",
          "text": [
            "Shape of eigenvectors array: (8, 8)\n",
            "Eigenvectors array:\n",
            "[[-0.07746229  0.22987873  0.24227053  0.16923764 -0.14981849  0.21822239\n",
            "   0.88529408 -0.00260258]\n",
            " [-0.00731846 -0.26078574  0.04484583 -0.0810348  -0.68393093 -0.6275508\n",
            "   0.10989777  0.22293588]\n",
            " [-0.43914246  0.54668689 -0.45881371 -0.53066164 -0.09505449 -0.06399944\n",
            "   0.04640173  0.02985194]\n",
            " [-0.3999956   0.50184958  0.37987469  0.53156581 -0.08685356 -0.19184813\n",
            "  -0.33814378  0.05092211]\n",
            " [ 0.17178267  0.10062559  0.01316952 -0.03167607 -0.67522557  0.65037482\n",
            "  -0.28320692  0.00807783]\n",
            " [ 0.01464423  0.00262099 -0.00895931  0.00324648  0.16941048  0.15772711\n",
            "  -0.00491848  0.97266948]\n",
            " [-0.56836442 -0.37401073  0.55441475 -0.43179746  0.04206944  0.19259966\n",
            "  -0.062214   -0.02276072]\n",
            " [ 0.53697448  0.4223868   0.52616501 -0.461698    0.08255109 -0.18082441\n",
            "  -0.05984646  0.01180653]]\n",
            "The eigenvectors array does not have a column index 8. Its shape is: (8, 8)\n",
            "Here is the last column instead:\n",
            "[-0.00260258  0.22293588  0.02985194  0.05092211  0.00807783  0.97266948\n",
            " -0.02276072  0.01180653]\n"
          ]
        },
        {
          "data": {
            "image/png": "[encoded data removed]",
            "text/plain": [
              "<Figure size 640x480 with 1 Axes>"
            ]
          },
          "metadata": {},
          "output_type": "display_data"
        }
      ],
      "source": [
        "# Print the shape of the eigenvectors array\n",
        "print(\"Shape of eigenvectors array:\", eigenvectors.shape)\n",
        "\n",
        "# Print the entire eigenvectors array to understand its structure\n",
        "print(\"Eigenvectors array:\")\n",
        "print(eigenvectors)\n",
        "\n",
        "# Ensure there are enough columns, if not, print the last column\n",
        "if eigenvectors.shape[1] > 8:\n",
        "    print(\"Eigenvectors at column index 8:\")\n",
        "    print(eigenvectors[:, 8])\n",
        "else:\n",
        "    print(f\"The eigenvectors array does not have a column index 8. Its shape is: {eigenvectors.shape}\")\n",
        "    print(\"Here is the last column instead:\")\n",
        "    print(eigenvectors[:, -1])\n",
        "\n",
        "# Example of further analysis or visualization\n",
        "import matplotlib.pyplot as plt\n",
        "\n",
        "# Plot the selected column data\n",
        "plt.plot(eigenvectors[:, -1], marker='o', linestyle='--')\n",
        "plt.title('Eigenvectors: Last Column')\n",
        "plt.xlabel('Index')\n",
        "plt.ylabel('Value')\n",
        "plt.show()\n"
      ]
    },
    {
      "cell_type": "code",
      "execution_count": 18,
      "metadata": {
        "colab": {
          "base_uri": "https://localhost:8080/"
        },
        "id": "hqYqgm6Lps0z",
        "outputId": "4a1c5f05-c38e-4526-8164-4e36a070ff00"
      },
      "outputs": [
        {
          "name": "stdout",
          "output_type": "stream",
          "text": [
            "The column with the maximum absolute value is at index: 7\n",
            "The variable with the maximum absolute value is: Variable8\n"
          ]
        }
      ],
      "source": [
        "import numpy as np\n",
        "\n",
        "# Eigenvectors array\n",
        "eigenvectors = np.array([\n",
        "    [-0.07746229,  0.22987873,  0.24227053,  0.16923764, -0.14981849,  0.21822239,  0.88529408, -0.00260258],\n",
        "    [-0.00731846, -0.26078574,  0.04484583, -0.0810348,  -0.68393093, -0.6275508,   0.10989777,  0.22293588],\n",
        "    [-0.43914246,  0.54668689, -0.45881371, -0.53066164, -0.09505449, -0.06399944,  0.04640173,  0.02985194],\n",
        "    [-0.3999956,   0.50184958,  0.37987469,  0.53156581, -0.08685356, -0.19184813, -0.33814378,  0.05092211],\n",
        "    [ 0.17178267,  0.10062559,  0.01316952, -0.03167607, -0.67522557,  0.65037482, -0.28320692,  0.00807783],\n",
        "    [ 0.01464423,  0.00262099, -0.00895931,  0.00324648,  0.16941048,  0.15772711, -0.00491848,  0.97266948],\n",
        "    [-0.56836442, -0.37401073,  0.55441475, -0.43179746,  0.04206944,  0.19259966, -0.062214,   -0.02276072],\n",
        "    [ 0.53697448,  0.4223868,   0.52616501, -0.461698,    0.08255109, -0.18082441, -0.05984646,  0.01180653]\n",
        "])\n",
        "\n",
        "# Initialize variables to track the maximum absolute value and its column index\n",
        "max_value = -np.inf\n",
        "max_column_index = -1\n",
        "\n",
        "# Iterate over each column to find the maximum absolute value\n",
        "for i in range(eigenvectors.shape[1]):\n",
        "    column_max = np.max(np.abs(eigenvectors[:, i]))\n",
        "    if column_max > max_value:\n",
        "        max_value = column_max\n",
        "        max_column_index = i\n",
        "\n",
        "# Print the index of the column with the maximum absolute value\n",
        "print(f\"The column with the maximum absolute value is at index: {max_column_index}\")\n",
        "\n",
        "# Print the name of the variable if names are available (assuming variable names are known)\n",
        "variable_names = ['Variable1', 'Variable2', 'Variable3', 'Variable4', 'Variable5', 'Variable6', 'Variable7', 'Variable8']\n",
        "if max_column_index != -1:\n",
        "    print(f\"The variable with the maximum absolute value is: {variable_names[max_column_index]}\")\n"
      ]
    },
    {
      "cell_type": "code",
      "execution_count": 19,
      "metadata": {
        "colab": {
          "base_uri": "https://localhost:8080/"
        },
        "id": "b5ME7BrryZ4c",
        "outputId": "19e3b1ba-38af-47a9-d498-ad755e24d97f"
      },
      "outputs": [
        {
          "name": "stdout",
          "output_type": "stream",
          "text": [
            "Latitude Longitude\n"
          ]
        }
      ],
      "source": [
        "print (variables[6], variables[7])"
      ]
    },
    {
      "cell_type": "code",
      "execution_count": 20,
      "metadata": {
        "colab": {
          "base_uri": "https://localhost:8080/"
        },
        "id": "nrZfs_P6ykBv",
        "outputId": "c58429ef-ba92-4678-f0ba-06a945d89305"
      },
      "outputs": [
        {
          "name": "stdout",
          "output_type": "stream",
          "text": [
            "Original means: [ 3.87067100e+00  2.86394864e+01  5.42899974e+00  1.09667515e+00\n",
            "  1.42547674e+03  3.07065516e+00  3.56318614e+01 -1.19569704e+02]\n",
            "Original standard deviations: [1.89977569e+00 1.25852527e+01 2.47411320e+00 4.73899376e-01\n",
            " 1.13243469e+03 1.03857980e+01 2.13590065e+00 2.00348319e+00]\n"
          ]
        }
      ],
      "source": [
        "from sklearn.preprocessing import StandardScaler\n",
        "\n",
        "# 데이터 표준화\n",
        "standardization = StandardScaler()\n",
        "Xst = standardization.fit_transform(X)\n",
        "original_means = standardization.mean_\n",
        "original_stds = standardization.scale_  # std_ 대신 scale_ 사용\n",
        "\n",
        "Xst = np.column_stack((Xst, np.ones(observations)))\n",
        "y = dataset['MedHouseVal'].values\n",
        "\n",
        "print(\"Original means:\", original_means)\n",
        "print(\"Original standard deviations:\", original_stds)\n"
      ]
    },
    {
      "cell_type": "code",
      "execution_count": 21,
      "metadata": {
        "colab": {
          "base_uri": "https://localhost:8080/"
        },
        "id": "dW5MVg0Syxfc",
        "outputId": "b8c8e2f6-e2df-4a0e-cc9d-46796f50eacc"
      },
      "outputs": [
        {
          "name": "stdout",
          "output_type": "stream",
          "text": [
            "These are our final standardized coefficients: 0.8296, 0.1188, -0.2656, 0.3057, -0.0045, -0.0393, -0.8998, -0.8705, 2.0686\n"
          ]
        }
      ],
      "source": [
        "import random\n",
        "import numpy as np\n",
        "\n",
        "def random_w( p ):\n",
        "    return np.array([np.random.normal() for j in range(p)])\n",
        "\n",
        "def hypothesis(X,w):\n",
        "    return np.dot(X,w)\n",
        "\n",
        "def loss(X,w,y):\n",
        "    return hypothesis(X,w) - y\n",
        "\n",
        "def squared_loss(X,w,y):\n",
        "    return loss(X,w,y)**2\n",
        "\n",
        "def gradient(X,w,y):\n",
        "    gradients = list()\n",
        "    n = float(len( y ))\n",
        "    for j in range(len(w)):\n",
        "        gradients.append(np.sum(loss(X,w,y) * X[:,j]) / n)\n",
        "    return gradients\n",
        "\n",
        "def update(X,w,y, alpha=0.01):\n",
        "    return [t - alpha*g for t, g in zip(w, gradient(X,w,y))]\n",
        "\n",
        "def optimize(X,y, alpha=0.01, eta = 10**-12, iterations = 1000):\n",
        "    w = random_w(X.shape[1])\n",
        "    path = list()\n",
        "    for k in range(iterations):\n",
        "        SSL = np.sum(squared_loss(X,w,y))\n",
        "        new_w = update(X,w,y, alpha=alpha)\n",
        "        new_SSL = np.sum(squared_loss(X,new_w,y))\n",
        "        w = new_w\n",
        "        if k>=5 and (new_SSL - SSL <= eta and new_SSL - SSL >= -eta):\n",
        "            path.append(new_SSL)\n",
        "            return w, path\n",
        "        if k % (iterations / 20) == 0:\n",
        "            path.append(new_SSL)\n",
        "    return w, path\n",
        "\n",
        "alpha = 0.01\n",
        "w, path = optimize(Xst, y, alpha, eta = 10**-12, iterations = 20000)\n",
        "print (\"These are our final standardized coefficients: \" + ', '.join(map(lambda x: \"%0.4f\" % x, w)))"
      ]
    },
    {
      "cell_type": "code",
      "execution_count": 22,
      "metadata": {
        "colab": {
          "base_uri": "https://localhost:8080/"
        },
        "id": "uK3xvyNJy_kq",
        "outputId": "ed09b9d2-0f16-4e44-d35a-f988ee8d3670"
      },
      "outputs": [
        {
          "name": "stdout",
          "output_type": "stream",
          "text": [
            "    bias: -36.9402\n",
            "  MedInc:   0.4367\n",
            "HouseAge:   0.0094\n",
            "AveRooms:  -0.1073\n",
            "AveBedrms:   0.6451\n",
            "Population:  -0.0000\n",
            "AveOccup:  -0.0038\n",
            "Latitude:  -0.4213\n",
            "Longitude:  -0.4345\n"
          ]
        }
      ],
      "source": [
        "# Assuming that 'w' is already defined in the context\n",
        "unstandardized_betas = w[:-1] / original_stds\n",
        "unstandardized_bias  = w[-1] - np.sum((original_means / original_stds) * w[:-1])\n",
        "\n",
        "print('%8s: %8.4f' % ('bias', unstandardized_bias))\n",
        "for beta, varname in zip(unstandardized_betas, variables):\n",
        "    print('%8s: %8.4f' % (varname, beta))\n"
      ]
    },
    {
      "cell_type": "code",
      "execution_count": 23,
      "metadata": {
        "colab": {
          "base_uri": "https://localhost:8080/"
        },
        "id": "aSW9ev1uzF9r",
        "outputId": "933c8306-f6c1-4b25-f0bd-426d36b041df"
      },
      "outputs": [
        {
          "name": "stdout",
          "output_type": "stream",
          "text": [
            "    bias: -36.9419\n",
            "  MedInc:   0.4367\n",
            "HouseAge:   0.0094\n",
            "AveRooms:  -0.1073\n",
            "AveBedrms:   0.6451\n",
            "Population:  -0.0000\n",
            "AveOccup:  -0.0038\n",
            "Latitude:  -0.4213\n",
            "Longitude:  -0.4345\n"
          ]
        }
      ],
      "source": [
        "from sklearn.preprocessing import StandardScaler\n",
        "from sklearn.linear_model import LinearRegression\n",
        "import numpy as np\n",
        "\n",
        "# 데이터 표준화\n",
        "standardization = StandardScaler()\n",
        "Xst = standardization.fit_transform(X)\n",
        "original_means = standardization.mean_\n",
        "original_stds = standardization.scale_\n",
        "\n",
        "# 선형 회귀 모델\n",
        "linear_regression = LinearRegression(fit_intercept=False)\n",
        "linear_regression.fit(Xst, y)\n",
        "\n",
        "# 회귀 계수 추출\n",
        "w = linear_regression.coef_\n",
        "\n",
        "# 비표준화된 회귀 계수 및 바이어스 계산\n",
        "unstandardized_betas = w / original_stds\n",
        "unstandardized_bias  = np.mean(y) - np.sum(unstandardized_betas * original_means)\n",
        "\n",
        "print('%8s: %8.4f' % ('bias', unstandardized_bias))\n",
        "for beta, varname in zip(unstandardized_betas, variables):\n",
        "    print('%8s: %8.4f' % (varname, beta))\n"
      ]
    },
    {
      "cell_type": "code",
      "execution_count": 24,
      "metadata": {
        "id": "t2AP0-ySzdza"
      },
      "outputs": [],
      "source": [
        "from sklearn.preprocessing import StandardScaler\n",
        "from sklearn.pipeline import make_pipeline\n",
        "standardization = StandardScaler()\n",
        "Stand_coef_linear_reg = make_pipeline(standardization, linear_regression)"
      ]
    },
    {
      "cell_type": "code",
      "execution_count": 25,
      "metadata": {
        "colab": {
          "base_uri": "https://localhost:8080/"
        },
        "id": "lDjtidU_zfLC",
        "outputId": "0213870f-08a4-4f3b-eb23-a4f96c015740"
      },
      "outputs": [
        {
          "name": "stdout",
          "output_type": "stream",
          "text": [
            " 0.865 AveBedrms\n",
            " 0.514 MedInc\n",
            " 0.183 AveRooms\n",
            " 0.064 Latitude\n",
            " 0.016 Longitude\n",
            " 0.016 HouseAge\n",
            " 0.005 AveOccup\n",
            " 0.000 Population\n"
          ]
        }
      ],
      "source": [
        "linear_regression.fit(X,y)\n",
        "for coef, var in sorted(zip(map(abs,linear_regression.coef_), dataset.columns[:-1]), reverse=True):\n",
        "    print (\"%6.3f %s\" % (coef,var))"
      ]
    },
    {
      "cell_type": "code",
      "execution_count": 26,
      "metadata": {
        "colab": {
          "base_uri": "https://localhost:8080/"
        },
        "id": "Dacp3zLvzgrj",
        "outputId": "53349511-1a91-45a8-a1c4-ff324602e623"
      },
      "outputs": [
        {
          "name": "stdout",
          "output_type": "stream",
          "text": [
            " 0.900 Latitude\n",
            " 0.871 Longitude\n",
            " 0.830 MedInc\n",
            " 0.306 AveBedrms\n",
            " 0.266 AveRooms\n",
            " 0.119 HouseAge\n",
            " 0.039 AveOccup\n",
            " 0.005 Population\n"
          ]
        }
      ],
      "source": [
        "Stand_coef_linear_reg.fit(X,y)\n",
        "for coef, var in sorted(zip(map(abs,Stand_coef_linear_reg.steps[1][1].coef_), dataset.columns[:-1]), reverse=True):\n",
        "    print (\"%6.3f %s\" % (coef,var))"
      ]
    }
  ],
  "metadata": {
    "colab": {
      "provenance": []
    },
    "kernelspec": {
      "display_name": "Python 3",
      "name": "python3"
    },
    "language_info": {
      "codemirror_mode": {
        "name": "ipython",
        "version": 3
      },
      "file_extension": ".py",
      "mimetype": "text/x-python",
      "name": "python",
      "nbconvert_exporter": "python",
      "pygments_lexer": "ipython3",
      "version": "3.11.6"
    }
  },
  "nbformat": 4,
  "nbformat_minor": 0
}
